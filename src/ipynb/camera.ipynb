{
 "cells": [
  {
   "cell_type": "code",
   "execution_count": 1,
   "metadata": {},
   "outputs": [
    {
     "name": "stdout",
     "output_type": "stream",
     "text": [
      "True\n",
      "True [[[30 30 30]\n",
      "  [30 30 30]\n",
      "  [30 30 30]\n",
      "  ...\n",
      "  [30 30 30]\n",
      "  [30 30 30]\n",
      "  [30 30 30]]\n",
      "\n",
      " [[30 30 30]\n",
      "  [30 30 30]\n",
      "  [30 30 30]\n",
      "  ...\n",
      "  [30 30 30]\n",
      "  [30 30 30]\n",
      "  [30 30 30]]\n",
      "\n",
      " [[30 30 30]\n",
      "  [30 30 30]\n",
      "  [30 30 30]\n",
      "  ...\n",
      "  [30 30 30]\n",
      "  [30 30 30]\n",
      "  [30 30 30]]\n",
      "\n",
      " ...\n",
      "\n",
      " [[53 42 26]\n",
      "  [50 40 23]\n",
      "  [53 42 26]\n",
      "  ...\n",
      "  [41 23 49]\n",
      "  [41 23 49]\n",
      "  [39 22 47]]\n",
      "\n",
      " [[53 42 26]\n",
      "  [53 42 26]\n",
      "  [53 42 26]\n",
      "  ...\n",
      "  [42 24 50]\n",
      "  [42 24 50]\n",
      "  [39 22 47]]\n",
      "\n",
      " [[53 42 26]\n",
      "  [49 39 22]\n",
      "  [53 42 26]\n",
      "  ...\n",
      "  [39 22 47]\n",
      "  [39 22 47]\n",
      "  [38 21 46]]]\n"
     ]
    }
   ],
   "source": [
    "import numpy as np\n",
    "import cv2 #需要提前安装opencv\n",
    "\n",
    "cap = cv2.VideoCapture(0)\n",
    "print(cap.isOpened())\n",
    "ret, img = cap.read()\n",
    "print(ret, img)\n",
    "cv2.imshow(\"Image\", img)\n",
    "cv2.imwrite(r\"output/camera.jpg\", img) #此处填写摄像头拍摄的照片的存储路径\n",
    "cv2.waitKey(0)\n",
    "\n",
    "# 释放摄像头资源\n",
    "cap.release()"
   ]
  },
  {
   "cell_type": "code",
   "execution_count": null,
   "metadata": {},
   "outputs": [],
   "source": []
  }
 ],
 "metadata": {
  "kernelspec": {
   "display_name": "Python 3",
   "language": "python",
   "name": "python3"
  },
  "language_info": {
   "codemirror_mode": {
    "name": "ipython",
    "version": 3
   },
   "file_extension": ".py",
   "mimetype": "text/x-python",
   "name": "python",
   "nbconvert_exporter": "python",
   "pygments_lexer": "ipython3",
   "version": "3.12.1"
  }
 },
 "nbformat": 4,
 "nbformat_minor": 4
}
