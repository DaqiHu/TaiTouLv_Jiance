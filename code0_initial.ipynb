{
 "cells": [
  {
   "cell_type": "code",
   "execution_count": 1,
   "metadata": {},
   "outputs": [],
   "source": [
    "# !/usr/bin/python\n",
    "# The contents of this file are in the public domain. See LICENSE_FOR_EXAMPLE_PROGRAMS.txt\n",
    "#\n",
    "#   This example shows how to run a CNN based face detector using dlib.  The\n",
    "#   example loads a pretrained model and uses it to find faces in images.  The\n",
    "#   CNN model is much more accurate than the HOG based model shown in the\n",
    "#   face_detector.py example, but takes much more computational power to\n",
    "#   run, and is meant to be executed on a GPU to attain reasonable speed.\n",
    "#\n",
    "#   You can download the pre-trained model from:\n",
    "#       http://dlib.net/files/mmod_human_face_detector.dat.bz2\n",
    "#\n",
    "#   The examples/faces folder contains some jpg images of people.  You can run\n",
    "#   this program on them and see the detections by executing the\n",
    "#   following command:\n",
    "#       ./cnn_face_detector.py mmod_human_face_detector.dat ../examples/faces/*.jpg\n",
    "#\n",
    "#\n",
    "# COMPILING/INSTALLING THE DLIB PYTHON INTERFACE\n",
    "#   You can install dlib using the command:\n",
    "#       pip install dlib\n",
    "#\n",
    "#   Alternatively, if you want to compile dlib yourself then go into the dlib\n",
    "#   root folder and run:\n",
    "#       python setup.py install\n",
    "#   or\n",
    "#       python setup.py install --yes USE_AVX_INSTRUCTIONS --yes DLIB_USE_CUDA\n",
    "#   if you have a CPU that supports AVX instructions, you have an Nvidia GPU\n",
    "#   and you have CUDA installed since this makes things run *much* faster.\n",
    "#\n",
    "#   Compiling dlib should work on any operating system so long as you have\n",
    "#   CMake and boost-python installed.  On Ubuntu, this can be done easily by\n",
    "#   running the command:\n",
    "#       sudo apt-get install libboost-python-dev cmake\n",
    "#\n",
    "#   Also note that this example requires scikit-image which can be installed\n",
    "#   via the command:\n",
    "#       pip install scikit-image\n",
    "#   Or downloaded from http://scikit-image.org/download.html."
   ]
  },
  {
   "cell_type": "code",
   "execution_count": 2,
   "metadata": {},
   "outputs": [
    {
     "ename": "ModuleNotFoundError",
     "evalue": "No module named 'dlib'",
     "output_type": "error",
     "traceback": [
      "\u001b[1;31m---------------------------------------------------------------------------\u001b[0m",
      "\u001b[1;31mModuleNotFoundError\u001b[0m                       Traceback (most recent call last)",
      "\u001b[1;32m<ipython-input-2-fc3dfe4c4130>\u001b[0m in \u001b[0;36m<module>\u001b[1;34m\u001b[0m\n\u001b[0;32m      3\u001b[0m \u001b[1;32mfrom\u001b[0m \u001b[0mtkinter\u001b[0m \u001b[1;32mimport\u001b[0m \u001b[0mttk\u001b[0m\u001b[1;33m\u001b[0m\u001b[1;33m\u001b[0m\u001b[0m\n\u001b[0;32m      4\u001b[0m \u001b[1;32mimport\u001b[0m \u001b[0msys\u001b[0m\u001b[1;33m\u001b[0m\u001b[1;33m\u001b[0m\u001b[0m\n\u001b[1;32m----> 5\u001b[1;33m \u001b[1;32mimport\u001b[0m \u001b[0mdlib\u001b[0m\u001b[1;33m\u001b[0m\u001b[1;33m\u001b[0m\u001b[0m\n\u001b[0m\u001b[0;32m      6\u001b[0m \u001b[1;32mfrom\u001b[0m \u001b[0mskimage\u001b[0m \u001b[1;32mimport\u001b[0m \u001b[0mio\u001b[0m\u001b[1;33m\u001b[0m\u001b[1;33m\u001b[0m\u001b[0m\n\u001b[0;32m      7\u001b[0m \u001b[1;32mfrom\u001b[0m \u001b[0mtkinter\u001b[0m\u001b[1;33m.\u001b[0m\u001b[0mfiledialog\u001b[0m \u001b[1;32mimport\u001b[0m \u001b[0maskopenfilename\u001b[0m\u001b[1;33m\u001b[0m\u001b[1;33m\u001b[0m\u001b[0m\n",
      "\u001b[1;31mModuleNotFoundError\u001b[0m: No module named 'dlib'"
     ]
    }
   ],
   "source": [
    "import tkinter as tk\n",
    "import time\n",
    "from tkinter import ttk\n",
    "import sys\n",
    "import dlib\n",
    "from skimage import io\n",
    "from tkinter.filedialog import askopenfilename"
   ]
  },
  {
   "cell_type": "code",
   "execution_count": null,
   "metadata": {},
   "outputs": [],
   "source": [
    "window = tk.Tk()  # 这是一个窗口object\n",
    "window.title('抬头率监测系统')\n",
    "window.geometry('600x400')  # 窗口大小"
   ]
  },
  {
   "cell_type": "code",
   "execution_count": null,
   "metadata": {},
   "outputs": [],
   "source": [
    "def gettime():  # 当前时间显示\n",
    "    timestr = time.strftime('%Y.%m.%d %H:%M', time.localtime(time.time()))\n",
    "    lb.configure(text=timestr)\n",
    "    window.after(1000, gettime)"
   ]
  },
  {
   "cell_type": "code",
   "execution_count": null,
   "metadata": {},
   "outputs": [],
   "source": [
    "#动态选择图片\n",
    "def choosepic():\n",
    "    path_=askopenfilename()\n",
    "    path.set(path_)\n",
    "    img_gif=Tkinter.PhotoImage(file=r'C:\\Users\\86132\\Desktop\\dlib\\dlib-master\\examples\\faces\\1.jpg')\n",
    "    l1.config(image=img_gif)\n"
   ]
  },
  {
   "cell_type": "code",
   "execution_count": null,
   "metadata": {},
   "outputs": [],
   "source": [
    "# 检测人脸数核心函数\n",
    "def inspect():\n",
    "    str1 = \"教室\"\n",
    "    str2 = \"课上的抬头人数为：\"\n",
    "\n",
    "    sys_argv=[r'C:\\Users\\86132\\Desktop\\dlib\\dlib_data\\mmod_human_face_detector.dat',\n",
    "              r'C:\\Users\\86132\\Desktop\\dlib\\dlib-master\\examples\\faces\\1.jpg',\n",
    "              r'C:\\Users\\86132\\Desktop\\dlib\\dlib-master\\examples\\faces\\3.jpg']\n",
    "    '''\n",
    "    if len(sys.argv) < 3:  # 如果检测输入的参数不够标准的三个，提示去获取模型文件\n",
    "        print(\n",
    "            \"Call this program like this:\\n\"\n",
    "            \"   ./cnn_face_detector.py mmod_human_face_detector.dat ../examples/faces/*.jpg\\n\"\n",
    "            \"You can get the mmod_human_face_detector.dat file from:\\n\"\n",
    "            \"    http://dlib.net/files/mmod_human_face_detector.dat.bz2\")\n",
    "        exit()\n",
    "    '''\n",
    "    cnn_face_detector = dlib.cnn_face_detection_model_v1(sys_argv[0])  # 调用cnn_face_detection模型\n",
    "\n",
    "    # win = dlib.image_window()\n",
    "\n",
    "    for f in sys_argv[2:]:  # 处理sys.argv[2]地址处的图片\n",
    "        print(\"Processing file: {}\".format(f))\n",
    "        img = io.imread(f)\n",
    "        # The 1 in the second argument indicates that we should upsample the image\n",
    "        # 1 time.  This will make everything bigger and allow us to detect more\n",
    "        # faces.\n",
    "        dets = (img, 1)  # 待改\n",
    "        #dets = cnn_face_detector(img, 1) # img中所有检测到的脸的数组\n",
    "        '''cnn_face_detector\n",
    "        This detector returns a mmod_rectangles object. This object contains a list of mmod_rectangle objects.\n",
    "        These objects can be accessed by simply iterating over the mmod_rectangles object\n",
    "        The mmod_rectangle object has two member variables, a dlib.rectangle object, and a confidence score.\n",
    "\n",
    "        It is also possible to pass a list of images to the detector.\n",
    "            - like this: dets = cnn_face_detector([image list], upsample_num, batch_size = 128)\n",
    "        In this case it will return a mmod_rectangless object.\n",
    "        This object behaves just like a list of lists and can be iterated over.\n",
    "        '''\n",
    "        a = len(dets)\n",
    "        str3 = str(a)\n",
    "        var.set(class_room_chosen.get() + str1 + course_time.get() + str2 + str3)\n",
    "        # print(\"Number of faces detected: {}\".format(len(dets)))\n",
    "        # for i, d in enumerate(dets):\n",
    "        #   print(\"Detection {}: Left: {} Top: {} Right: {} Bottom: {} Confidence: {}\".format(\n",
    "        #       i, d.rect.left(), d.rect.top(), d.rect.right(), d.rect.bottom(), d.confidence))\n",
    "\n",
    "        # rects = dlib.rectangles()\n",
    "        # rects.extend([d.rect for d in dets])\n",
    "\n",
    "        # win.clear_overlay()\n",
    "        # win.set_image(img)\n",
    "        # win.add_overlay(rects)\n",
    "        # dlib.hit_enter_to_continue()\n"
   ]
  },
  {
   "cell_type": "code",
   "execution_count": null,
   "metadata": {},
   "outputs": [],
   "source": [
    "lb = tk.Label(window, text='', font=(\"黑体\", 20))\n",
    "lb.grid(column=0, row=0)\n",
    "gettime()\n",
    "\n",
    "# 选择教室标签加下拉菜单\n",
    "choose_classroom = tk.Label(window, text=\"选择教室\", width=15, height=2, font=(\"黑体\", 12)).grid(column=0, row=1, sticky='w')\n",
    "class_room = tk.StringVar()\n",
    "class_room_chosen = ttk.Combobox(window, width=20, height=10, textvariable=class_room, state='readonly')\n",
    "class_room_chosen['values'] = ('N101', 'N103', 'S101', 'S103')\n",
    "class_room_chosen.grid(column=1, row=1, sticky='w')\n",
    "\n",
    "# 选择课时标签加下拉菜单\n",
    "choose_time = tk.Label(window, text=\"选择课时\", width=15, height=2, font=(\"黑体\", 12)).grid(column=0, row=3, sticky='w')\n",
    "course_time = tk.StringVar()\n",
    "course_time_chosen = ttk.Combobox(window, width=20, height=10, textvariable=course_time, state='readonly')\n",
    "course_time_chosen['values'] = (\"周一一二节\", \"周一三四节\", \"周一五六节\", \"周一七八节\")\n",
    "course_time_chosen.grid(column=1, row=3, sticky='w')"
   ]
  },
  {
   "cell_type": "code",
   "execution_count": null,
   "metadata": {},
   "outputs": [],
   "source": [
    "var = tk.StringVar()  # tkinter中的字符串\n",
    "display = tk.Label(window, textvariable=var, font=('Arial', 12), width=38, height=10)\n",
    "display.grid(column=1, row=5, sticky='w')\n",
    "\n",
    "# Adding a Button\n",
    "b = ttk.Button(window, text=\"Click Me!\", command=inspect)\n",
    "b.grid(column=0, row=5)\n",
    "\n",
    "window.mainloop()"
   ]
  },
  {
   "cell_type": "code",
   "execution_count": null,
   "metadata": {},
   "outputs": [],
   "source": []
  },
  {
   "cell_type": "code",
   "execution_count": null,
   "metadata": {},
   "outputs": [],
   "source": []
  }
 ],
 "metadata": {
  "kernelspec": {
   "display_name": "Python 3",
   "language": "python",
   "name": "python3"
  },
  "language_info": {
   "codemirror_mode": {
    "name": "ipython",
    "version": 3
   },
   "file_extension": ".py",
   "mimetype": "text/x-python",
   "name": "python",
   "nbconvert_exporter": "python",
   "pygments_lexer": "ipython3",
   "version": "3.8.3"
  }
 },
 "nbformat": 4,
 "nbformat_minor": 4
}
